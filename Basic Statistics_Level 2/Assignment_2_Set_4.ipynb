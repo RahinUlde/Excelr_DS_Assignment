{
 "cells": [
  {
   "cell_type": "code",
   "execution_count": 1,
   "id": "9acd635c",
   "metadata": {},
   "outputs": [],
   "source": [
    "import pandas as pd\n",
    "import numpy as np\n",
    "import matplotlib.pyplot as plt\n",
    "import scipy.stats as stats\n",
    "import seaborn as sns\n",
    "import statsmodels.api as smf\n",
    "import warnings\n",
    "warnings.filterwarnings('ignore')"
   ]
  },
  {
   "cell_type": "markdown",
   "id": "b04aa368",
   "metadata": {},
   "source": [
    "# Q3"
   ]
  },
  {
   "cell_type": "code",
   "execution_count": 3,
   "id": "ce3291f2",
   "metadata": {},
   "outputs": [
    {
     "name": "stdout",
     "output_type": "stream",
     "text": [
      "The probability that in any given week, there will be an investigation is 21.424633756838652 %\n"
     ]
    }
   ],
   "source": [
    "mean = 50\n",
    "std = 40\n",
    "n = 100\n",
    "d_f = 100 - 1 \n",
    "\n",
    "t_fortyfive = (45-50)/(40/np.sqrt(100))\n",
    "\n",
    "t_fiftyfive = (55-50)/(40/np.sqrt(100))\n",
    "\n",
    "fortyfive = stats.t.cdf(t_fortyfive, df = d_f)\n",
    "\n",
    "fiftyfive = stats.t.cdf(t_fiftyfive, d_f)\n",
    "\n",
    "probability = fiftyfive - fortyfive\n",
    "\n",
    "stats.t.interval(alpha = prob, df = d_f, loc = mean, scale = std/np.sqrt(n))\n",
    "\n",
    "print('The probability that in any given week, there will be an investigation is',((1-probability)*100),'%')"
   ]
  },
  {
   "cell_type": "markdown",
   "id": "b4e557a1",
   "metadata": {},
   "source": [
    "# Q4 "
   ]
  },
  {
   "cell_type": "code",
   "execution_count": 33,
   "id": "9a6e420d",
   "metadata": {},
   "outputs": [
    {
     "name": "stdout",
     "output_type": "stream",
     "text": [
      "The minimum number of transactions to maintain a 5% probability of investigation is approximately: 246.0\n"
     ]
    }
   ],
   "source": [
    "population_mean = 50\n",
    "population_std_dev = 40\n",
    "confidence_interval_lower = 45\n",
    "confidence_interval_upper = 55\n",
    "probability = 0.05  # 5%\n",
    "\n",
    "# Find critical z-values for a two-tailed test\n",
    "z_lower_critical = stats.norm.ppf(probability / 2)\n",
    "z_upper_critical = stats.norm.ppf(1 - probability / 2)\n",
    "\n",
    "# Calculate the necessary sample size\n",
    "sample_size = ((z_upper_critical - z_lower_critical) * population_std_dev / (confidence_interval_upper - confidence_interval_lower)) ** 2\n",
    "\n",
    "print(f\"The minimum number of transactions to maintain a 5% probability of investigation is approximately:\",np.round((sample_size),))\n"
   ]
  },
  {
   "cell_type": "code",
   "execution_count": null,
   "id": "a75751cc",
   "metadata": {},
   "outputs": [],
   "source": []
  }
 ],
 "metadata": {
  "kernelspec": {
   "display_name": "Python 3 (ipykernel)",
   "language": "python",
   "name": "python3"
  },
  "language_info": {
   "codemirror_mode": {
    "name": "ipython",
    "version": 3
   },
   "file_extension": ".py",
   "mimetype": "text/x-python",
   "name": "python",
   "nbconvert_exporter": "python",
   "pygments_lexer": "ipython3",
   "version": "3.11.3"
  }
 },
 "nbformat": 4,
 "nbformat_minor": 5
}
