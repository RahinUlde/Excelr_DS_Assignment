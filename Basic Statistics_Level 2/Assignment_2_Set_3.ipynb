{
 "cells": [
  {
   "cell_type": "code",
   "execution_count": 2,
   "id": "0dbda45c",
   "metadata": {},
   "outputs": [],
   "source": [
    "import pandas as pd\n",
    "import numpy as np\n",
    "import matplotlib.pyplot as plt\n",
    "import scipy.stats as stats\n",
    "import seaborn as sns\n",
    "import statsmodels.api as smf\n",
    "import math\n",
    "import warnings\n",
    "warnings.filterwarnings('ignore')"
   ]
  },
  {
   "cell_type": "markdown",
   "id": "88851c2c",
   "metadata": {},
   "source": [
    "# Q8"
   ]
  },
  {
   "cell_type": "code",
   "execution_count": 3,
   "id": "675c984d",
   "metadata": {},
   "outputs": [
    {
     "name": "stdout",
     "output_type": "stream",
     "text": [
      "The minimum number of randomly selected employers to guarantee a margin of error of no more than 4% is: 601\n"
     ]
    }
   ],
   "source": [
    "confidence_level = 0.95\n",
    "margin_of_error = 0.04\n",
    "estimated_proportion = 0.5  \n",
    "\n",
    "z_score = stats.norm.ppf((1 + confidence_level) / 2)\n",
    "\n",
    "required_sample_size = math.ceil((z_score**2 * estimated_proportion * (1 - estimated_proportion)) / margin_of_error**2)\n",
    "\n",
    "print(f\"The minimum number of randomly selected employers to guarantee a margin of error of no more than 4% is:\",required_sample_size)\n"
   ]
  },
  {
   "cell_type": "markdown",
   "id": "7b4cbc00",
   "metadata": {},
   "source": [
    "# Q9"
   ]
  },
  {
   "cell_type": "code",
   "execution_count": 4,
   "id": "e78006dd",
   "metadata": {},
   "outputs": [
    {
     "name": "stdout",
     "output_type": "stream",
     "text": [
      "The minimum number of randomly selected employers to guarantee a margin of error of no more than 4% at a 98% confidence level is: 846\n"
     ]
    }
   ],
   "source": [
    "confidence_level = 0.98\n",
    "margin_of_error = 0.04\n",
    "estimated_proportion = 0.5  # Assuming maximum variability\n",
    "\n",
    "# Z-score for 98% confidence level\n",
    "z_score = stats.norm.ppf((1 + confidence_level) / 2)\n",
    "\n",
    "# Calculate minimum sample size\n",
    "required_sample_size = math.ceil((z_score**2 * estimated_proportion * (1 - estimated_proportion)) / margin_of_error**2)\n",
    "\n",
    "print(f\"The minimum number of randomly selected employers to guarantee a margin of error of no more than 4% at a 98% confidence level is: {required_sample_size}\")\n"
   ]
  },
  {
   "cell_type": "markdown",
   "id": "fe579fb1",
   "metadata": {},
   "source": [
    "# Q5 "
   ]
  },
  {
   "cell_type": "markdown",
   "id": "debfed54",
   "metadata": {},
   "source": [
    "# 1"
   ]
  },
  {
   "cell_type": "code",
   "execution_count": 14,
   "id": "8d425660",
   "metadata": {},
   "outputs": [
    {
     "name": "stdout",
     "output_type": "stream",
     "text": [
      "Confidence Interval:  ( 0.036 , 0.056 )\n",
      "Cannot conclude that Mozilla has a less than 5% share of the market.\n"
     ]
    }
   ],
   "source": [
    "sample_percentage = 4.6 / 100  \n",
    "sample_size = 2000\n",
    "desired_population_percentage = 5 / 100  \n",
    "\n",
    "margin_of_error = 1 / 100  # 1%\n",
    "\n",
    "lower_bound = sample_percentage - margin_of_error\n",
    "upper_bound = sample_percentage + margin_of_error\n",
    "\n",
    "conclusion = \"Cannot conclude\" if upper_bound >= desired_population_percentage else \"May conclude\"\n",
    "\n",
    "print(f\"Confidence Interval: \",'(',lower_bound,',', upper_bound,')')\n",
    "print(f\"{conclusion} that Mozilla has a less than 5% share of the market.\")\n"
   ]
  },
  {
   "cell_type": "markdown",
   "id": "2b116263",
   "metadata": {},
   "source": [
    "# 2"
   ]
  },
  {
   "cell_type": "code",
   "execution_count": 19,
   "id": "43c54a3a",
   "metadata": {},
   "outputs": [
    {
     "name": "stdout",
     "output_type": "stream",
     "text": [
      "Confidence Interval: (0.03681678405071208, 0.05518321594928792)\n",
      "Cannot conclude that Mozilla has a less than 5% share of the market.\n"
     ]
    }
   ],
   "source": [
    "sample_percentage = 4.6 / 100  \n",
    "sample_size = 2000  \n",
    "\n",
    "standard_error = stats.sem([1] * int(sample_percentage * sample_size) + [0] * int((1 - sample_percentage) * sample_size))\n",
    "\n",
    "confidence_interval = stats.norm.interval(0.95, loc=sample_percentage, scale=standard_error)\n",
    "\n",
    "conclusion = \"Cannot conclude\" if confidence_interval[1] >= 0.05 else \"May conclude\"\n",
    "\n",
    "print(\"Confidence Interval:\",confidence_interval)\n",
    "print(f\"{conclusion} that Mozilla has a less than 5% share of the market.\")"
   ]
  },
  {
   "cell_type": "code",
   "execution_count": null,
   "id": "ff713aa6",
   "metadata": {},
   "outputs": [],
   "source": []
  }
 ],
 "metadata": {
  "kernelspec": {
   "display_name": "Python 3 (ipykernel)",
   "language": "python",
   "name": "python3"
  },
  "language_info": {
   "codemirror_mode": {
    "name": "ipython",
    "version": 3
   },
   "file_extension": ".py",
   "mimetype": "text/x-python",
   "name": "python",
   "nbconvert_exporter": "python",
   "pygments_lexer": "ipython3",
   "version": "3.11.3"
  }
 },
 "nbformat": 4,
 "nbformat_minor": 5
}
