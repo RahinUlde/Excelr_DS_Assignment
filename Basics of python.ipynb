{
 "cells": [
  {
   "cell_type": "markdown",
   "id": "10b55fde-fd7e-4f75-9321-64b54b8cd91f",
   "metadata": {},
   "source": [
    "# Exercise 1: Prime Numbers"
   ]
  },
  {
   "cell_type": "code",
   "execution_count": 11,
   "id": "e5ee42ea-ae4f-425a-936a-ee892d666854",
   "metadata": {},
   "outputs": [
    {
     "name": "stdin",
     "output_type": "stream",
     "text": [
      "Enter a number:  3\n"
     ]
    },
    {
     "name": "stdout",
     "output_type": "stream",
     "text": [
      "3 is a prime number.\n"
     ]
    }
   ],
   "source": [
    "num = int(input(\"Enter a number: \"))\n",
    "\n",
    "# Prime numbers are greater than 1\n",
    "if num > 1:\n",
    "    # Check for factors\n",
    "    for i in range(2, int(num ** 0.5) + 1):\n",
    "        if num % i == 0:\n",
    "            print(f\"{num} is not a prime number.\")\n",
    "            break\n",
    "    else:\n",
    "        print(f\"{num} is a prime number.\")\n",
    "else:\n",
    "    print(f\"{num} is not a prime number.\")"
   ]
  },
  {
   "cell_type": "markdown",
   "id": "b536e3bc-ae8d-42c3-9c66-3b4598adedf3",
   "metadata": {},
   "source": [
    "# Exercise 2: Product of Random Numbers"
   ]
  },
  {
   "cell_type": "code",
   "execution_count": 12,
   "id": "a13bd8f7-1299-4ca4-9033-3a4a1c4b49f5",
   "metadata": {},
   "outputs": [
    {
     "name": "stdout",
     "output_type": "stream",
     "text": [
      "Product of 5 and 5?\n"
     ]
    },
    {
     "name": "stdin",
     "output_type": "stream",
     "text": [
      "Your answer:  20\n"
     ]
    },
    {
     "name": "stdout",
     "output_type": "stream",
     "text": [
      "Incorrect. The correct answer is 25.\n"
     ]
    }
   ],
   "source": [
    "import random\n",
    "\n",
    "num1 = random.randint(1, 10)\n",
    "num2 = random.randint(1, 10)\n",
    "\n",
    "# Ask the user to calculate the product\n",
    "print(f\"Product of {num1} and {num2}?\")\n",
    "product = int(input(\"Your answer: \"))\n",
    "\n",
    "# Check the user's answer\n",
    "correct_answer = num1 * num2\n",
    "\n",
    "if product == correct_answer:\n",
    "    print(\"Product of two numbers is correct.\")\n",
    "else:\n",
    "    print(f\"Incorrect. The correct answer is {correct_answer}.\")"
   ]
  },
  {
   "cell_type": "markdown",
   "id": "348cedba-b294-4c27-9f1e-915e4a6ae547",
   "metadata": {},
   "source": [
    "# Exercise 3: Squares of Even/Odd Numbers"
   ]
  },
  {
   "cell_type": "code",
   "execution_count": 13,
   "id": "44544bf0-55eb-4688-88bb-7b53adf2c332",
   "metadata": {},
   "outputs": [
    {
     "name": "stdout",
     "output_type": "stream",
     "text": [
      "Squares of even numbers from 100 to 200:\n",
      "100² = 10000\n",
      "102² = 10404\n",
      "104² = 10816\n",
      "106² = 11236\n",
      "108² = 11664\n",
      "110² = 12100\n",
      "112² = 12544\n",
      "114² = 12996\n",
      "116² = 13456\n",
      "118² = 13924\n",
      "120² = 14400\n",
      "122² = 14884\n",
      "124² = 15376\n",
      "126² = 15876\n",
      "128² = 16384\n",
      "130² = 16900\n",
      "132² = 17424\n",
      "134² = 17956\n",
      "136² = 18496\n",
      "138² = 19044\n",
      "140² = 19600\n",
      "142² = 20164\n",
      "144² = 20736\n",
      "146² = 21316\n",
      "148² = 21904\n",
      "150² = 22500\n",
      "152² = 23104\n",
      "154² = 23716\n",
      "156² = 24336\n",
      "158² = 24964\n",
      "160² = 25600\n",
      "162² = 26244\n",
      "164² = 26896\n",
      "166² = 27556\n",
      "168² = 28224\n",
      "170² = 28900\n",
      "172² = 29584\n",
      "174² = 30276\n",
      "176² = 30976\n",
      "178² = 31684\n",
      "180² = 32400\n",
      "182² = 33124\n",
      "184² = 33856\n",
      "186² = 34596\n",
      "188² = 35344\n",
      "190² = 36100\n",
      "192² = 36864\n",
      "194² = 37636\n",
      "196² = 38416\n",
      "198² = 39204\n",
      "200² = 40000\n"
     ]
    }
   ],
   "source": [
    "# Choice: Working with even numbers\n",
    "# Even numbers are divisible by 2 (i.e., number % 2 == 0)\n",
    "\n",
    "print(\"Squares of even numbers from 100 to 200:\")\n",
    "\n",
    "for num in range(100, 201):  # 201 is exclusive, so it goes up to 200\n",
    "    if num % 2 == 0:\n",
    "        print(f\"{num}² = {num ** 2}\")"
   ]
  },
  {
   "cell_type": "markdown",
   "id": "49e265f7-86d9-4426-a2f3-3e066d4dced7",
   "metadata": {},
   "source": [
    "# Exercise 4: Word counter"
   ]
  },
  {
   "cell_type": "code",
   "execution_count": 14,
   "id": "76fe7a83-3852-4cb7-9e5d-5365da6feb3a",
   "metadata": {},
   "outputs": [
    {
     "name": "stdout",
     "output_type": "stream",
     "text": [
      "'This': 2\n",
      "'is': 1\n",
      "'a': 1\n",
      "'sample': 1\n",
      "'text.': 1\n",
      "'text': 1\n",
      "'will': 1\n",
      "'be': 1\n",
      "'used': 1\n",
      "'to': 1\n",
      "'demonstrate': 1\n",
      "'the': 1\n",
      "'word': 1\n",
      "'counter.': 1\n"
     ]
    }
   ],
   "source": [
    "\n",
    "input_text = \"This is a sample text. This text will be used to demonstrate the word counter.\"\n",
    "\n",
    "# Convert text to lowercase (optional if you want case-insensitive counting)\n",
    "words = input_text.split()\n",
    "\n",
    "# Dictionary to store word counts\n",
    "word_count = {}\n",
    "\n",
    "# Count each word\n",
    "for word in words:\n",
    "    if word in word_count:\n",
    "        word_count[word] += 1\n",
    "    else:\n",
    "        word_count[word] = 1\n",
    "\n",
    "# Print the word counts\n",
    "for word, count in word_count.items():\n",
    "    print(f\"'{word}': {count}\")"
   ]
  },
  {
   "cell_type": "markdown",
   "id": "15407670-2666-4721-93a9-e1fa1b3eee57",
   "metadata": {},
   "source": [
    "# Exercise 5: Check for Palindrome"
   ]
  },
  {
   "cell_type": "code",
   "execution_count": 18,
   "id": "f9a24678-e10c-45e9-b808-e2d6704ede3d",
   "metadata": {},
   "outputs": [
    {
     "name": "stdin",
     "output_type": "stream",
     "text": [
      "Enter a word or phrase to check if it's a palindrome:  level\n"
     ]
    },
    {
     "name": "stdout",
     "output_type": "stream",
     "text": [
      "Yes, it's a palindrome.\n"
     ]
    }
   ],
   "source": [
    "import string\n",
    "\n",
    "def is_palindrome(s):\n",
    "    # Convert to lowercase\n",
    "    s = s.lower()\n",
    "    \n",
    "    # Remove spaces and punctuation\n",
    "    cleaned = ''.join(char for char in s if char.isalnum())\n",
    "    \n",
    "    # Check if the cleaned string is equal to its reverse\n",
    "    return cleaned == cleaned[::-1]\n",
    "\n",
    "# Take input from the user\n",
    "user_input = input(\"Enter a word or phrase to check if it's a palindrome: \")\n",
    "\n",
    "# Call the function and print the result\n",
    "if is_palindrome(user_input):\n",
    "    print(\"Yes, it's a palindrome.\")\n",
    "else:\n",
    "    print(\"No, it's not a palindrome.\")"
   ]
  },
  {
   "cell_type": "code",
   "execution_count": null,
   "id": "9fe6bc2c-a2ab-4235-8159-641b1b462c11",
   "metadata": {},
   "outputs": [],
   "source": []
  }
 ],
 "metadata": {
  "kernelspec": {
   "display_name": "Python (DS_env)",
   "language": "python",
   "name": "ds_env"
  },
  "language_info": {
   "codemirror_mode": {
    "name": "ipython",
    "version": 3
   },
   "file_extension": ".py",
   "mimetype": "text/x-python",
   "name": "python",
   "nbconvert_exporter": "python",
   "pygments_lexer": "ipython3",
   "version": "3.11.13"
  }
 },
 "nbformat": 4,
 "nbformat_minor": 5
}
