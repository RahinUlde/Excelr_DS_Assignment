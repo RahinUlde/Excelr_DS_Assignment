{
 "cells": [
  {
   "cell_type": "code",
   "execution_count": 12,
   "id": "e7758fbe",
   "metadata": {},
   "outputs": [],
   "source": [
    "import pandas as pd\n",
    "import numpy as np\n",
    "import matplotlib.pyplot as plt\n",
    "import scipy.stats as stats\n",
    "import seaborn as sns\n",
    "import statsmodels.api as smf\n",
    "import warnings\n",
    "warnings.filterwarnings('ignore')"
   ]
  },
  {
   "cell_type": "markdown",
   "id": "27f08505",
   "metadata": {},
   "source": [
    "# Q1"
   ]
  },
  {
   "cell_type": "code",
   "execution_count": 13,
   "id": "315fdaa3",
   "metadata": {},
   "outputs": [
    {
     "name": "stdout",
     "output_type": "stream",
     "text": [
      "The probability that the service manager cannot meet his commitment is 0.26598552904870054\n"
     ]
    }
   ],
   "source": [
    "mean = 55\n",
    "std = 8\n",
    "q1 = 1-stats.norm.cdf(60, loc = mean, scale = std)\n",
    "print(\"\"\"The probability that the service manager cannot meet his commitment is\"\"\",(q1))"
   ]
  },
  {
   "cell_type": "markdown",
   "id": "50597e28",
   "metadata": {},
   "source": [
    "# Q2"
   ]
  },
  {
   "cell_type": "markdown",
   "id": "12001a00",
   "metadata": {},
   "source": [
    "# A"
   ]
  },
  {
   "cell_type": "code",
   "execution_count": 31,
   "id": "4480a817",
   "metadata": {},
   "outputs": [
    {
     "name": "stdout",
     "output_type": "stream",
     "text": [
      "The probability of employee age betweeen 38 and 44 is 34.13447460685429 %\n",
      "The probability of employee age more than 44 is 15.865525393145708 %\n",
      "Answer: False\n"
     ]
    }
   ],
   "source": [
    "mean = 38\n",
    "std = 6\n",
    "q1 = stats.norm.cdf(38, loc = mean, scale = std)\n",
    "q2 = stats.norm.cdf(44, loc = mean,  scale = std)\n",
    "\n",
    "q2_1 = (q2_less_than_44 - q2_lessthan_38)\n",
    "print('The probability of employee age betweeen 38 and 44 is',q2_1*100,'%') \n",
    "\n",
    "q3 = 1-stats.norm.cdf(44, loc = mean, scale = std)\n",
    "print('The probability of employee age more than 44 is',q3*100,'%')\n",
    "\n",
    "true_or_false = (q3 > q2_1)\n",
    "print('Answer:',true_or_false)"
   ]
  },
  {
   "cell_type": "markdown",
   "id": "1c218e05",
   "metadata": {},
   "source": [
    "# B"
   ]
  },
  {
   "cell_type": "code",
   "execution_count": 32,
   "id": "088000db",
   "metadata": {},
   "outputs": [
    {
     "name": "stdout",
     "output_type": "stream",
     "text": [
      "A training program for employees under the age of 30 at the center would be expected to attract about 36.484487890347154 employees\n"
     ]
    }
   ],
   "source": [
    "qb = stats.norm.cdf(30, loc = mean, scale = std)\n",
    "print('A training program for employees under the age of 30 at the center would be expected to attract about',(q2b*400),'employees')"
   ]
  },
  {
   "cell_type": "markdown",
   "id": "e16ce9c2",
   "metadata": {},
   "source": [
    "# Q4"
   ]
  },
  {
   "cell_type": "code",
   "execution_count": 52,
   "id": "929f84a6",
   "metadata": {},
   "outputs": [],
   "source": [
    "mean = 100\n",
    "std_dev = 20\n",
    "\n",
    "# Find the z-score corresponding to a cumulative probability of 0.005 on each tail\n",
    "z_score = stats.norm.ppf(0.995)\n",
    "\n",
    "# Calculate a and b\n",
    "a = mean - z_score * std_dev\n",
    "b = mean + z_score * std_dev"
   ]
  },
  {
   "cell_type": "code",
   "execution_count": 53,
   "id": "db038bf3",
   "metadata": {},
   "outputs": [
    {
     "data": {
      "text/plain": [
       "48.48341392902199"
      ]
     },
     "execution_count": 53,
     "metadata": {},
     "output_type": "execute_result"
    }
   ],
   "source": [
    "a"
   ]
  },
  {
   "cell_type": "code",
   "execution_count": 54,
   "id": "fd643e74",
   "metadata": {},
   "outputs": [
    {
     "data": {
      "text/plain": [
       "151.516586070978"
      ]
     },
     "execution_count": 54,
     "metadata": {},
     "output_type": "execute_result"
    }
   ],
   "source": [
    "b"
   ]
  },
  {
   "cell_type": "code",
   "execution_count": 55,
   "id": "d02a033c",
   "metadata": {},
   "outputs": [
    {
     "name": "stdout",
     "output_type": "stream",
     "text": [
      "The values of a and b, symmetric about the mean, are such that the probability of the random variable taking a value between them is 0.99: 48.48341392902199 151.516586070978\n"
     ]
    }
   ],
   "source": [
    "print(\"The values of a and b, symmetric about the mean, are such that the probability of the random variable taking a value between them is 0.99:\",a,b)"
   ]
  },
  {
   "cell_type": "code",
   "execution_count": 57,
   "id": "90a862f1",
   "metadata": {},
   "outputs": [
    {
     "data": {
      "text/plain": [
       "(48.48341392902199, 151.516586070978)"
      ]
     },
     "execution_count": 57,
     "metadata": {},
     "output_type": "execute_result"
    }
   ],
   "source": [
    "#Or 2nd way\n",
    "stats.norm.interval(0.99, loc = 100, scale = 20)"
   ]
  },
  {
   "cell_type": "markdown",
   "id": "28540d6d",
   "metadata": {},
   "source": [
    "# Q5"
   ]
  },
  {
   "cell_type": "code",
   "execution_count": 66,
   "id": "e946b6e7",
   "metadata": {},
   "outputs": [
    {
     "name": "stdout",
     "output_type": "stream",
     "text": [
      "The Mean Profit of both division: 12 Million$\n",
      "The Mean Profit of both division: 54.0 Crore Rupees\n",
      "The Standard Deviation of both division: 5.0 Million$\n",
      "The Standard Deviation of both division: 22.5 Crore Rupees\n"
     ]
    }
   ],
   "source": [
    "mean1 = 5\n",
    "mean2 = 7\n",
    "Mean = (mean1+mean2) \n",
    "print('The Mean Profit of both division:',Mean, 'Million$')\n",
    "print('The Mean Profit of both division:',(Mean*45)/10, 'Crore Rupees')\n",
    "\n",
    "var1 = 3**2\n",
    "var2 = 4**2\n",
    "Std = np.sqrt(var1 + var2)\n",
    "print('The Standard Deviation of both division:', Std, 'Million$')\n",
    "print('The Standard Deviation of both division:', (Std*45)/10, 'Crore Rupees')"
   ]
  },
  {
   "cell_type": "markdown",
   "id": "e8ec4bdd",
   "metadata": {},
   "source": [
    "# A"
   ]
  },
  {
   "cell_type": "code",
   "execution_count": 71,
   "id": "a398bd85",
   "metadata": {},
   "outputs": [
    {
     "name": "stdout",
     "output_type": "stream",
     "text": [
      "Rupee Ranges from 2.2001800772997306 to 21.79981992270027 Million$ in Annual profit of the Company 95% of the time\n",
      "Rupee Ranges from 9.900810347848788 to 98.09918965215121 Crore Rupees in Annual profit of the Company 95% of the time\n"
     ]
    }
   ],
   "source": [
    "r1, r2 = stats.norm.interval(0.95, Mean, Std)\n",
    "print('Rupee Ranges from',r1,'to',r2,'Million$ in Annual profit of the Company 95% of the time')\n",
    "print('Rupee Ranges from',np.divide(np.multiply(r1,45),10),'to',np.divide(np.multiply(r2,45),10),'Crore Rupees in Annual profit of the Company 95% of the time')"
   ]
  },
  {
   "cell_type": "markdown",
   "id": "2ee68a6a",
   "metadata": {},
   "source": [
    "# B"
   ]
  },
  {
   "cell_type": "code",
   "execution_count": 73,
   "id": "5522b41a",
   "metadata": {},
   "outputs": [
    {
     "name": "stdout",
     "output_type": "stream",
     "text": [
      "The 5th percentile of Profit for the company is 3.7757318652426353 Million$\n",
      "The 5th percentile of Profit for the company is 16.990793393591858 Crore Rupees\n"
     ]
    }
   ],
   "source": [
    "Z_05 = stats.norm.ppf(0.05)\n",
    "Fifth_percentile = (Z_05 * Std) + Mean\n",
    "print('The 5th percentile of Profit for the company is',(Fifth_percentile),'Million$')\n",
    "print('The 5th percentile of Profit for the company is',((Fifth_percentile*45)/10),'Crore Rupees')"
   ]
  },
  {
   "cell_type": "markdown",
   "id": "fcd6dd97",
   "metadata": {},
   "source": [
    "# C"
   ]
  },
  {
   "cell_type": "code",
   "execution_count": 74,
   "id": "0da855ff",
   "metadata": {},
   "outputs": [
    {
     "name": "stdout",
     "output_type": "stream",
     "text": [
      "The Probability of Division #1 making a loss is 4.7790352272814705 %\n",
      "The Probability of Division #2 making a loss is 4.005915686381709 %\n",
      "The Division 1 has a larger Probability of making a loss\n"
     ]
    }
   ],
   "source": [
    "print('The Probability of Division #1 making a loss is',((stats.norm.cdf(0,5,3))*100),'%')\n",
    "\n",
    "print('The Probability of Division #2 making a loss is',((stats.norm.cdf(0,7,4))*100),'%')\n",
    "\n",
    "Division_1 = (stats.norm.cdf(0,5,3))*100\n",
    "Division_2 = (stats.norm.cdf(0,7,4))*100\n",
    "\n",
    "if Division_1 > Division_2:\n",
    "    print('The Division 1 has a larger Probability of making a loss')\n",
    "else:\n",
    "          print('The Division 2 has a larger Porbability of making a loss') "
   ]
  },
  {
   "cell_type": "code",
   "execution_count": null,
   "id": "2fe444ac",
   "metadata": {},
   "outputs": [],
   "source": []
  }
 ],
 "metadata": {
  "kernelspec": {
   "display_name": "Python 3 (ipykernel)",
   "language": "python",
   "name": "python3"
  },
  "language_info": {
   "codemirror_mode": {
    "name": "ipython",
    "version": 3
   },
   "file_extension": ".py",
   "mimetype": "text/x-python",
   "name": "python",
   "nbconvert_exporter": "python",
   "pygments_lexer": "ipython3",
   "version": "3.11.3"
  }
 },
 "nbformat": 4,
 "nbformat_minor": 5
}
